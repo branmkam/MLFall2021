{
 "cells": [
  {
   "cell_type": "code",
   "execution_count": 59,
   "id": "b9a849e1",
   "metadata": {},
   "outputs": [],
   "source": [
    "#import\n",
    "import pandas as pd\n",
    "import numpy as np\n",
    "import matplotlib.pyplot as plt\n",
    "%matplotlib inline"
   ]
  },
  {
   "cell_type": "code",
   "execution_count": 60,
   "id": "6eb4900e",
   "metadata": {},
   "outputs": [],
   "source": [
    "#import data\n",
    "df = pd.read_csv('CondensedDataandKey.csv')"
   ]
  },
  {
   "cell_type": "code",
   "execution_count": 77,
   "id": "6da2c0fc",
   "metadata": {},
   "outputs": [],
   "source": [
    "#data cleanup\n",
    "#make gender binary numbers\n",
    "df['Gender'] = [0 if i == 'M' else 1 for i in df['Gender']]\n",
    "\n",
    "#take some columns - can paste directly from CSV and delete what needed here\n",
    "cols = 'Subject,Gender,MMSE_Score,PSQI_BedTime,PSQI_Min2Asleep,PSQI_AmtSleep,PSQI_Latency30Min,PSQI_WakeUp,PSQI_Bathroom,PSQI_Breathe,PSQI_Snore,PSQI_TooCold,PSQI_TooHot,PSQI_BadDream,PSQI_Pain,PSQI_Other,PSQI_Quality,PSQI_SleepMeds,PSQI_DayStayAwake,PSQI_DayEnthusiasm,PSQI_BedPtnrRmate,PicSeq_Unadj,PicSeq_AgeAdj,CardSort_Unadj,CardSort_AgeAdj,Flanker_Unadj,Flanker_AgeAdj,ReadEng_Unadj,ReadEng_AgeAdj,PicVocab_Unadj,PicVocab_AgeAdj,ProcSpeed_Unadj,ProcSpeed_AgeAdj,ListSort_Unadj,ListSort_AgeAdj,CogFluidComp_Unadj,CogFluidComp_AgeAdj,CogEarlyComp_Unadj,CogEarlyComp_AgeAdj,CogTotalComp_Unadj,CogTotalComp_AgeAdj,CogCrystalComp_Unadj,CogCrystalComp_AgeAdj,ER40_CR,ER40_CRT,ER40ANG,ER40FEAR,ER40HAP,ER40NOE,ER40SAD,AngAffect_Unadj,AngHostil_Unadj,AngAggr_Unadj,FearAffect_Unadj,FearSomat_Unadj,Sadness_Unadj,LifeSatisf_Unadj,MeanPurp_Unadj,PosAffect_Unadj,Friendship_Unadj,Loneliness_Unadj,PercHostil_Unadj,PercReject_Unadj,EmotSupp_Unadj,InstruSupp_Unadj,PercStress_Unadj,SelfEff_Unadj,FS_L_Hippo_Vol,FS_L_Amygdala_Vol,FS_L_AccumbensArea_Vol,FS_R_Hippo_Vol,FS_R_Amygdala_Vol,FS_R_AccumbensArea_Vol,WM_Task_Acc,WM_Task_Median_RT,WM_Task_2bk_Acc,WM_Task_2bk_Median_RT,WM_Task_0bk_Acc,WM_Task_0bk_Median_RT,WM_Task_0bk_Body_Acc,WM_Task_0bk_Body_Acc_Target,WM_Task_0bk_Body_Acc_Nontarget,WM_Task_0bk_Face_Acc,WM_Task_0bk_Face_Acc_Target,WM_Task_0bk_Face_ACC_Nontarget,WM_Task_0bk_Place_Acc,WM_Task_0bk_Place_Acc_Target,WM_Task_0bk_Place_Acc_Nontarget,WM_Task_0bk_Tool_Acc,WM_Task_0bk_Tool_Acc_Target,WM_Task_0bk_Tool_Acc_Nontarget,WM_Task_2bk_Body_Acc,WM_Task_2bk_Body_Acc_Target,WM_Task_2bk_Body_Acc_Nontarget,WM_Task_2bk_Face_Acc,WM_Task_2bk_Face_Acc_Target,WM_Task_2bk_Face_Acc_Nontarget,WM_Task_2bk_Place_Acc,WM_Task_2bk_Place_Acc_Target,WM_Task_2bk_Place_Acc_Nontarget,WM_Task_2bk_Tool_Acc,WM_Task_2bk_Tool_Acc_Target,WM_Task_2bk_Tool_Acc_Nontarget,WM_Task_0bk_Body_Median_RT,WM_Task_0bk_Body_Median_RT_Target,WM_Task_0bk_Body_Median_RT_Nontarget,WM_Task_0bk_Face_Median_RT,WM_Task_0bk_Face_Median_RT_Target,WM_Task_0bk_Face_Median_RT_Nontarget,WM_Task_0bk_Place_Median_RT,WM_Task_0bk_Place_Median_RT_Target,WM_Task_0bk_Place_Median_RT_Nontarget,WM_Task_0bk_Tool_Median_RT,WM_Task_0bk_Tool_Median_RT_Target,WM_Task_0bk_Tool_Median_RT_Nontarget,WM_Task_2bk_Body_Median_RT,WM_Task_2bk_Body_Median_RT_Target,WM_Task_2bk_Body_Median_RT_Nontarget,WM_Task_2bk_Face_Median_RT,WM_Task_2bk_Face_Median_RT_Target,WM_Task_2bk_Face_Median_RT_Nontarget,WM_Task_2bk_Place_Median_RT,WM_Task_2bk_Place_Median_RT_Target,WM_Task_2bk_Place_Median_RT_Nontarget,WM_Task_2bk_Tool_Median_RT,WM_Task_2bk_Tool_Median_RT_Target,WM_Task_2bk_Tool_Median_RT_Nontarget'\n",
    "colarr = cols.split(',')\n",
    "\n",
    "#delete all unadjusted, age not important here\n",
    "adjcols = []\n",
    "for i in colarr:\n",
    "    if not 'Unadj' in i:\n",
    "        adjcols.append(i)"
   ]
  },
  {
   "cell_type": "code",
   "execution_count": 78,
   "id": "39f1ca27",
   "metadata": {
    "scrolled": true
   },
   "outputs": [],
   "source": [
    "#bring data in\n",
    "X = df[adjcols]\n",
    "\n",
    "#get rid of any incomplete data\n",
    "for row in X.index:\n",
    "    if X.loc[row].isnull().values.any():\n",
    "        #print(row)\n",
    "        X = X.drop(labels=[row], axis='index')\n",
    "\n",
    "X = X.reset_index(drop=True)\n",
    "\n",
    "#split data into features and predictor\n",
    "y = X['PSQI_AmtSleep']\n",
    "X = X.drop(axis = 'columns', labels=['PSQI_AmtSleep'])"
   ]
  },
  {
   "cell_type": "code",
   "execution_count": 80,
   "id": "1d36c93f",
   "metadata": {},
   "outputs": [
    {
     "name": "stdout",
     "output_type": "stream",
     "text": [
      "0      6.0\n",
      "1      6.5\n",
      "2      8.0\n",
      "3      7.0\n",
      "4      5.5\n",
      "      ... \n",
      "933    7.0\n",
      "934    6.5\n",
      "935    8.0\n",
      "936    7.0\n",
      "937    6.5\n",
      "Name: PSQI_AmtSleep, Length: 938, dtype: float64\n"
     ]
    }
   ],
   "source": [
    "print(y)"
   ]
  },
  {
   "cell_type": "code",
   "execution_count": 81,
   "id": "5de7be78",
   "metadata": {},
   "outputs": [],
   "source": [
    "#divide data into training and test sets\n",
    "from sklearn.model_selection import train_test_split\n",
    "X_train, X_test, y_train, y_test = train_test_split(X, y, test_size=0.2, random_state=0)"
   ]
  },
  {
   "cell_type": "code",
   "execution_count": null,
   "id": "70f9c378",
   "metadata": {},
   "outputs": [],
   "source": []
  }
 ],
 "metadata": {
  "kernelspec": {
   "display_name": "Python 3",
   "language": "python",
   "name": "python3"
  },
  "language_info": {
   "codemirror_mode": {
    "name": "ipython",
    "version": 3
   },
   "file_extension": ".py",
   "mimetype": "text/x-python",
   "name": "python",
   "nbconvert_exporter": "python",
   "pygments_lexer": "ipython3",
   "version": "3.8.8"
  }
 },
 "nbformat": 4,
 "nbformat_minor": 5
}
